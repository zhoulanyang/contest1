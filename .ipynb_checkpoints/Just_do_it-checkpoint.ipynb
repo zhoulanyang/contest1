{
 "cells": [
  {
   "cell_type": "code",
   "execution_count": 129,
   "metadata": {},
   "outputs": [
    {
     "name": "stdout",
     "output_type": "stream",
     "text": [
      "训练集的size为:(50000, 30)\n",
      "测试集的size为:(50000, 29)\n"
     ]
    }
   ],
   "source": [
    "#coding:utf-8\n",
    "import pandas as pd\n",
    "import numpy as np\n",
    "import matplotlib.pyplot as plt\n",
    "import seaborn as sns\n",
    "from scipy.stats import norm, skew\n",
    "from scipy.special import boxcox\n",
    "from scipy.special import boxcox1p\n",
    "plt.rcParams['font.sans-serif'] = ['SimHei']\n",
    "sns.set_style('whitegrid',{'font.sans-serif':['simhei','Arial']})\n",
    "train_file = '../train_dataset/train_dataset.csv'\n",
    "test_file = '../test_dataset/test_dataset.csv'\n",
    "\n",
    "train = pd.read_csv(train_file, encoding='utf-8')\n",
    "test = pd.read_csv(test_file, encoding='utf-8')\n",
    "print('训练集的size为:{}'.format(train.shape))\n",
    "print('测试集的size为:{}'.format(test.shape))\n",
    "# lam = 6\n",
    "# train['信用分'] = boxcox(train['信用分'], lam)     # 自己定义参数使得输出变量正态化\n",
    "# y = np.sqrt(train['信用分'])\n",
    "y = train['信用分']"
   ]
  },
  {
   "cell_type": "code",
   "execution_count": 130,
   "metadata": {},
   "outputs": [],
   "source": [
    "# train[u'用户账单当月总费用（元）'].sort_values(ascending=True)"
   ]
  },
  {
   "cell_type": "code",
   "execution_count": 131,
   "metadata": {},
   "outputs": [],
   "source": [
    "train_Id = train[u'用户编码']\n",
    "test_Id = test[u'用户编码']\n",
    "# train.drop(u'用户编码', axis=1, inplace=True)\n",
    "# train.drop(u'信用分', axis=1, inplace=True)\n",
    "# train.shape\n",
    "ntrain = train.shape[0]  # 训练集的数量\n",
    "ntest = test.shape[0]    # 测试集的数量"
   ]
  },
  {
   "cell_type": "code",
   "execution_count": 132,
   "metadata": {},
   "outputs": [
    {
     "name": "stdout",
     "output_type": "stream",
     "text": [
      "all_data size is :(100000, 30)\n",
      "all_data size is :(100000, 28)\n"
     ]
    }
   ],
   "source": [
    "all_data = pd.concat((train, test)).reset_index(drop=True)\n",
    "print('all_data size is :{}'.format(all_data.shape))\n",
    "all_data.drop(u'用户编码', axis=1, inplace=True)                     # 删除用户Id信息\n",
    "all_data.drop(u'信用分', axis=1, inplace=True)                       # 删除信用分，即输出结果\n",
    "# all_data.drop(u'是否4G不健康客户', axis=1, inplace=True)\n",
    "# all_data.drop(u'用户话费敏感度', axis=1, inplace=True)\n",
    "# all_data.drop(u'当月视频播放类应用使用次数', axis=1, inplace=True)   # 删除'当月视频播放类应用使用次数'变量\n",
    "# all_data.drop(u'当月旅游资讯类应用使用次数', axis=1, inplace=True)  \n",
    "# all_data.drop(u'当月飞机类应用使用次数', axis=1, inplace=True)\n",
    "print('all_data size is :{}'.format(all_data.shape))\n",
    "# all_data.head()"
   ]
  },
  {
   "cell_type": "code",
   "execution_count": 133,
   "metadata": {},
   "outputs": [],
   "source": [
    "# 特征操作，使用boxcox对特征做变换\n",
    "lam = 0.5 \n",
    "all_data [u'用户账单当月总费用（元）'] = boxcox(all_data [u'用户账单当月总费用（元）'], lam)\n",
    "# train[u'用户账单当月总费用（元）'] = boxcox(train[u'用户账单当月总费用（元）'], 0.5)\n",
    "# lam = -0.01\n",
    "all_data ['用户当月账户余额（元）'] = boxcox(all_data ['用户当月账户余额（元）'], -0.01)\n",
    "# lam = 2.5\n",
    "all_data [u'用户近6个月平均消费值（元）'] = np.log1p(all_data [u'用户近6个月平均消费值（元）'])\n",
    "all_data [u'用户近6个月平均消费值（元）'] = boxcox(all_data [u'用户近6个月平均消费值（元）'], 2.5)\n",
    "# lam = 0.8\n",
    "var = '用户网龄（月）'\n",
    "all_data[var] = boxcox(all_data[var], 0.8)\n",
    "\n"
   ]
  },
  {
   "cell_type": "code",
   "execution_count": 134,
   "metadata": {},
   "outputs": [
    {
     "name": "stdout",
     "output_type": "stream",
     "text": [
      "(100000, 28)\n"
     ]
    }
   ],
   "source": [
    "all_data = pd.get_dummies(all_data)\n",
    "print(all_data.shape)"
   ]
  },
  {
   "cell_type": "code",
   "execution_count": 135,
   "metadata": {},
   "outputs": [],
   "source": [
    "train = all_data[:ntrain]\n",
    "test = all_data[ntrain:]"
   ]
  },
  {
   "cell_type": "code",
   "execution_count": 136,
   "metadata": {},
   "outputs": [],
   "source": [
    "# 先不对特征做任何操作，单纯的输入特征后创建模型，得到一个简易的效果\n",
    "from sklearn.linear_model import Lasso, ElasticNet, BayesianRidge\n",
    "from sklearn.preprocessing import StandardScaler\n",
    "import xgboost as xgb\n",
    "import lightgbm as lgb\n",
    "from sklearn.kernel_ridge import KernelRidge\n",
    "from sklearn.pipeline import make_pipeline\n",
    "from sklearn.preprocessing import RobustScaler\n",
    "from sklearn.model_selection import KFold, cross_val_score, train_test_split\n",
    "from sklearn.metrics import mean_absolute_error\n",
    "model_xgb = xgb.XGBRegressor(colsample_bytree=0.4603, gamma=0.0468, \n",
    "                             learning_rate=0.05, max_depth=3, \n",
    "                             min_child_weight=1.7817, n_estimators=1800,\n",
    "                             reg_alpha=0.4640, reg_lambda=0.8571,\n",
    "                             subsample=0.5213, silent=1,\n",
    "                             random_state =7, nthread = -1)\n",
    "\n",
    "model_lgb = lgb.LGBMRegressor(objective='regression',num_leaves=12,\n",
    "                              learning_rate=0.05, n_estimators=1200,\n",
    "                              max_bin = 55, bagging_fraction = 0.8,\n",
    "                              bagging_freq = 5, feature_fraction = 0.2319,\n",
    "                              feature_fraction_seed=9, bagging_seed=9,\n",
    "                              min_data_in_leaf =6, min_sum_hessian_in_leaf = 11)\n",
    "\n",
    "ENet = make_pipeline(RobustScaler(), ElasticNet(alpha=0.0005, l1_ratio=.9, random_state=3))\n",
    "\n",
    "lasso = make_pipeline(RobustScaler(), Lasso(alpha =0.0005, random_state=1))\n",
    "\n",
    "KRR = KernelRidge(alpha=0.6, kernel='polynomial', degree=2, coef0=2.5)"
   ]
  },
  {
   "cell_type": "code",
   "execution_count": 1,
   "metadata": {},
   "outputs": [
    {
     "ename": "SyntaxError",
     "evalue": "unexpected EOF while parsing (<ipython-input-1-10b496b52cb1>, line 8)",
     "output_type": "error",
     "traceback": [
      "\u001b[1;36m  File \u001b[1;32m\"<ipython-input-1-10b496b52cb1>\"\u001b[1;36m, line \u001b[1;32m8\u001b[0m\n\u001b[1;33m    def MAE_cv(model):\u001b[0m\n\u001b[1;37m                      ^\u001b[0m\n\u001b[1;31mSyntaxError\u001b[0m\u001b[1;31m:\u001b[0m unexpected EOF while parsing\n"
     ]
    }
   ],
   "source": [
    "n_folds = 5\n",
    "\n",
    "def rmsle_cv(model):\n",
    "    kf = KFold(n_folds, shuffle=True, random_state=42).get_n_splits(train.values)\n",
    "    rmse= np.sqrt(-cross_val_score(model, train.values, y, scoring=\"neg_mean_squared_error\", cv = kf))\n",
    "    # 在scoring=''，参数中对于不同的问题有不同的取值，具体可见:https://blog.csdn.net/qq_32590631/article/details/82831613\n",
    "    return(rmse)\n",
    "\n",
    "def MAE_cv(model):\n",
    "    kf = KFold()"
   ]
  },
  {
   "cell_type": "code",
   "execution_count": 138,
   "metadata": {},
   "outputs": [
    {
     "name": "stdout",
     "output_type": "stream",
     "text": [
      "----\n",
      "11111\n",
      "Lasso score: 25.7754 (0.1787)\n",
      "\n",
      "LGBM score: 19.4786 (0.1911)\n",
      "\n",
      "ENet score: 25.7754 (0.1786)\n",
      "\n"
     ]
    }
   ],
   "source": [
    "print('----')\n",
    "score = rmsle_cv(lasso)\n",
    "print('11111')\n",
    "print(\"Lasso score: {:.4f} ({:.4f})\\n\".format(score.mean(), score.std()))\n",
    "score = rmsle_cv(model_lgb)\n",
    "print(\"LGBM score: {:.4f} ({:.4f})\\n\" .format(score.mean(), score.std()))\n",
    "\n",
    "score = rmsle_cv(ENet)\n",
    "print(\"ENet score: {:.4f} ({:.4f})\\n\" .format(score.mean(), score.std()))\n",
    "\n",
    "# score = rmsle_cv(KRR)\n",
    "# print(\"Kernel Ridge score: {:.4f} ({:.4f})\\n\".format(score.mean(), score.std()))\n",
    "# score = rmsle_cv(model_xgb)\n",
    "# print(\"model_xgb score: {:.4f} ({:.4f})\\n\" .format(score.mean(), score.std()))"
   ]
  },
  {
   "cell_type": "code",
   "execution_count": 139,
   "metadata": {},
   "outputs": [
    {
     "name": "stdout",
     "output_type": "stream",
     "text": [
      "Lasso 19.94956903900255\n",
      "ENet 19.94939976146305\n",
      "LGB 14.148501429946537\n"
     ]
    }
   ],
   "source": [
    "# test_Id = test[u'用户编码']\n",
    "# test.drop(u'用户编码', axis=1, inplace=True)     # 用户去除id\n",
    "\n",
    "def rmsle(y, y_pred):\n",
    "    return mean_absolute_error(y, y_pred)\n",
    "\n",
    "lasso.fit(train.values, y)\n",
    "lasso_pred_values = lasso.predict(train.values)\n",
    "# stacked_pred = lasso.predict(test.values)\n",
    "# stacked_pred = np.power(lasso.predict(test.values), 2)\n",
    "print('Lasso', rmsle(y, lasso_pred_values))\n",
    "\n",
    "ENet.fit(train.values, y)\n",
    "ENet_pred_values = ENet.predict(train.values)\n",
    "# stacked_pred = np.power(ENet.predict(test.values), 2)\n",
    "print('ENet', rmsle(y, ENet_pred_values))\n",
    "\n",
    "# KRR.fit(train.values, y)\n",
    "# KRR_pred_values = KRR.predict(train.values)\n",
    "# stacked_pred = KRR.predict(test.values)\n",
    "# print(\"KRR \", rmsle(y, KRR_pred_values))\n",
    "\n",
    "model_lgb.fit(train.values, y)\n",
    "lgb_pred_values = model_lgb.predict(train.values)\n",
    "# stacked_pred = np.power(model_lgb.predict(test.values), 2)\n",
    "stacked_pred = model_lgb.predict(test.values)\n",
    "print('LGB',rmsle(y, lgb_pred_values))\n",
    "\n",
    "\n",
    "# model_xgb.fit(train.values, y)\n",
    "# model_xgb_pred_values = model_xgb.predict(train.values)\n",
    "# stacked_pred = np.power(model_lgb.predict(test.values), 2)\n",
    "# print(rmsle(y, model_xgb_pred_values))"
   ]
  },
  {
   "cell_type": "code",
   "execution_count": 140,
   "metadata": {},
   "outputs": [],
   "source": [
    "# test_Id = test[u'用户编码']\n",
    "# test.drop(u'用户编码', axis=1, inplace=True)     # 用户去除id\n",
    "# ensemble = lasso.predict(test.values)            # 测试集结果预测"
   ]
  },
  {
   "cell_type": "code",
   "execution_count": 141,
   "metadata": {},
   "outputs": [],
   "source": [
    "from decimal import Decimal\n",
    "sub = pd.DataFrame()\n",
    "sub['id'] = test_Id\n",
    "sub['score'] = list(map(lambda x:round(Decimal(x), 0),stacked_pred ))               # 将测试集中的数据转化为int类型\n",
    "sub.to_csv('submit.csv', index=False, encoding='utf-8')   # 数据保存到本地"
   ]
  },
  {
   "cell_type": "code",
   "execution_count": null,
   "metadata": {},
   "outputs": [],
   "source": []
  },
  {
   "cell_type": "code",
   "execution_count": null,
   "metadata": {},
   "outputs": [],
   "source": []
  }
 ],
 "metadata": {
  "kernelspec": {
   "display_name": "Python 3",
   "language": "python",
   "name": "python3"
  },
  "language_info": {
   "codemirror_mode": {
    "name": "ipython",
    "version": 3
   },
   "file_extension": ".py",
   "mimetype": "text/x-python",
   "name": "python",
   "nbconvert_exporter": "python",
   "pygments_lexer": "ipython3",
   "version": "3.6.4"
  }
 },
 "nbformat": 4,
 "nbformat_minor": 2
}
